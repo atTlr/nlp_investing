{
 "cells": [
  {
   "cell_type": "markdown",
   "metadata": {},
   "source": [
    "# Natural Language Processing r/wallstreetbets and r/investing\n",
    "## Tyler Zarnik"
   ]
  },
  {
   "cell_type": "markdown",
   "metadata": {},
   "source": [
    "## Problem Statemant\n",
    "\n",
    "> I am working with a team on behalf of Reddit.com to find if wallstreetbets is a problematic sub that should be removed from the platform due to hatespeech. We will be comparing this to a subreddit with a very similar focus, r/investing to see if the subreddits can be truly and quickly distinguished from one another based on the laguage used."
   ]
  },
  {
   "cell_type": "markdown",
   "metadata": {},
   "source": [
    "## Executive Summary\n",
    "\n",
    "The goal of this project is to be able to train a model that is able to distinguish posts from two different subreddits where one commonly has hate speech. \n",
    "\n",
    "Reddit is a website that often want to present itself as platform for many different types of communities. However, as recent politcal trends have started to become more polarized and even pereptuated by online communities, Reddit is looking to cull this behavior.\n",
    "\n",
    "Ultimately, we were able to find models that were able to explain 30% more of the posts than a simple null model and tease out the most used words for the subreddits. It also was able to identify some of the most problematic words that specifically and statistically indicated a post from wallstreetbets.\n",
    "\n",
    "This will  be accomplished by collecting over 5 months of data from the two subreddits. We will use natural language processing libraries to clean through our data sets including stemming and lemmatizing the words. We will concatenate both datasets at the end.In addition, we will clean out any outright profanity and will use the better_profanity library to take out any common profanity or slurs.We will also remove any items that have missing vales in the post title or post description as this will be our primary determining factor.\n",
    "\n",
    "We will want to employ a model that does have some explanatory power in regards to its features or coefficients, so that the model is able to tease out which words are specific for determining each subreddit. We will overall use: a baseline/ null model, a TFIDF Logistic Regression, a Decision Tree, a Bagged Model, a Randon Forest and a SVC. \n",
    "\n",
    "Lastly, we will look to explain our findings and explanatory power of our model in a conclusion, and ultimately recommend that more data and analysis of comment data is needed but that there are glaring issues with speech identified by our model from the subreddit."
   ]
  },
  {
   "cell_type": "markdown",
   "metadata": {},
   "source": [
    "### Contents:\n",
    "\n",
    "- [Data Dictionary](#Data-Dictionary)\n",
    "- [Imports](#Imports)\n",
    "- [Data Collection](#Data-Collection)\n",
    "- [Data Cleaning & EDA](#Data-Cleaning-&-EDA)\n",
    "- [Preprocessing & Modeling](#Preprocessing-&-Modeling)\n",
    "- [Evaluation and Conceptual Understanding](#Evaluation-and-Conceptual-Understanding)\n",
    "- [Conclusion and Recommendations](#Conclusion-and-Recommendations)"
   ]
  },
  {
   "cell_type": "markdown",
   "metadata": {},
   "source": [
    "## Data Dictionary"
   ]
  },
  {
   "cell_type": "markdown",
   "metadata": {},
   "source": [
    "|Feature|Type|Dataset|Description|\n",
    "|---|---|---|---|\n",
    "|subreddit|object|df,wsb,inv|Identify Subreddit|\n",
    "|Title|object|df,wsb,inv|Uncleaned Post Title Data|\n",
    "|Selftext|object|df,wsb,inv|Uncleaned Post Description Data|\n",
    "|t_tok|object|df,wsb,inv|Cleaned Tokenized Titles|\n",
    "|st_tok|object|df,wsb,inv|Clean Tokenized Selftext|\n",
    "|cleaned_tok|object|df|Concateated from st_tok and t_tok|"
   ]
  },
  {
   "cell_type": "markdown",
   "metadata": {},
   "source": [
    "## Imports"
   ]
  },
  {
   "cell_type": "code",
   "execution_count": 191,
   "metadata": {},
   "outputs": [],
   "source": [
    "import pandas as pd\n",
    "import datetime as dt\n",
    "import time\n",
    "import requests\n",
    "from better_profanity import profanity\n",
    "import nltk\n",
    "from nltk.stem import WordNetLemmatizer\n",
    "from nltk.tokenize import sent_tokenize, word_tokenize\n",
    "from nltk.tokenize import RegexpTokenizer\n",
    "import re\n",
    "from nltk.corpus import stopwords\n",
    "from nltk.stem.porter import PorterStemmer\n",
    "import pandas as pd\n",
    "import numpy as np\n",
    "import matplotlib.pyplot as plt\n",
    "from sklearn.model_selection import train_test_split, GridSearchCV, cross_val_score\n",
    "from sklearn.feature_extraction.text import CountVectorizer\n",
    "from sklearn.linear_model import LogisticRegression\n",
    "from sklearn.pipeline import Pipeline\n",
    "from sklearn.naive_bayes import MultinomialNB\n",
    "from sklearn.metrics import confusion_matrix, plot_confusion_matrix\n",
    "from sklearn.feature_extraction.text import CountVectorizer, TfidfVectorizer\n",
    "from sklearn.tree import DecisionTreeClassifier, export_text\n",
    "from sklearn.ensemble import RandomForestClassifier, ExtraTreesClassifier\n",
    "from sklearn.svm import LinearSVC, SVC\n",
    "from sklearn.datasets import make_classification\n",
    "from sklearn.ensemble import BaggingClassifier\n",
    "from sklearn.metrics import accuracy_score"
   ]
  },
  {
   "cell_type": "markdown",
   "metadata": {},
   "source": [
    "## Data Collection"
   ]
  },
  {
   "cell_type": "markdown",
   "metadata": {},
   "source": [
    "Creating query that will be able to take the last 400 days of information. I will most likely later drop some of these rows later by oldest. Since I am able to gather so much data here, I would rather have too many rows and then refine later. Also I forsee most information have a missing value in our festure rows."
   ]
  },
  {
   "cell_type": "code",
   "execution_count": 87,
   "metadata": {},
   "outputs": [],
   "source": [
    "# Adapted from Project 3 Intro Author: Boom D. (DSI-NYC), Mahdi Shadkam-Farrokhi (DSI-NYC)\n",
    "\n",
    "def query_api(subreddit, kind = 'submission', day_window = 2, n = 200):\n",
    "    SUBFIELDS = ['all_awardings', 'allow_live_comments', 'author', 'author_flair_css_class', \n",
    "                 'author_flair_richtext', 'author_flair_text', 'author_flair_type', 'author_fullname',\n",
    "                 'author_patreon_flair', 'author_premium', 'awarders', 'can_mod_post', 'contest_mode', \n",
    "                 'created_utc', 'domain', 'full_link', 'gildings', 'id', 'is_crosspostable', 'is_meta',\n",
    "                 'is_original_content', 'is_reddit_media_domain', 'is_robot_indexable', 'is_self', \n",
    "                 'is_video', 'link_flair_background_color', 'link_flair_richtext', 'link_flair_text_color', \n",
    "                 'link_flair_type', 'locked', 'media_only', 'no_follow', 'num_comments', 'num_crossposts', \n",
    "                 'over_18', 'parent_whitelist_status', 'permalink', 'pinned', 'pwls', 'removed_by_category', \n",
    "                 'retrieved_on', 'score', 'selftext', 'send_replies', 'spoiler', 'stickied', 'subreddit', \n",
    "                 'subreddit_id', 'subreddit_subscribers', 'subreddit_type', 'suggested_sort', 'thumbnail', \n",
    "                 'title', 'total_awards_received', 'treatment_tags', \n",
    "                 'upvote_ratio', 'url', 'whitelist_status', 'wls']\n",
    "    \n",
    "    BASE_URL = f\"https://api.pushshift.io/reddit/search/{kind}\"\n",
    "    stem = f\"{BASE_URL}?subreddit={subreddit}&size=100\" # 100 posts per 2 days\n",
    "    \n",
    "    # list to be concatenated\n",
    "    posts = []\n",
    "    \n",
    "    # loop every 5 sconds with time.sleep()\n",
    "    for i in range(1, n + 1):\n",
    "        URL = \"{}&after={}d\".format(stem, day_window * i)\n",
    "        print(\"Querying from: \" + URL)\n",
    "        response = requests.get(URL)\n",
    "        assert response.status_code == 200\n",
    "        mine = response.json()['data']\n",
    "        df = pd.DataFrame.from_dict(mine)\n",
    "        posts.append(df)\n",
    "        time.sleep(5)\n",
    "\n",
    "    full = pd.concat(posts, sort=False)\n",
    "    \n",
    "    print(\"Query Complete!\")    \n",
    "    return full "
   ]
  },
  {
   "cell_type": "code",
   "execution_count": 89,
   "metadata": {},
   "outputs": [],
   "source": [
    "df_wsb = query_pushshift('wallstreetbets')"
   ]
  },
  {
   "cell_type": "code",
   "execution_count": null,
   "metadata": {},
   "outputs": [],
   "source": [
    "df_inv = query_pushshift('investing')"
   ]
  },
  {
   "cell_type": "markdown",
   "metadata": {},
   "source": [
    "After looking through the immense amount of columns available, I am going to limit the number of columns to thoses that I find interesting and potentially useable for EDA and cleaning. The ones that I will most likely look to use however is 'subreddit', 'title',and 'selftext'."
   ]
  },
  {
   "cell_type": "code",
   "execution_count": 90,
   "metadata": {},
   "outputs": [],
   "source": [
    "features = ['subreddit','title','score','selftext','author','created_utc','domain','gildings','id','is_self'\n",
    "            ,'stickied','upvote_ratio','timestamp']"
   ]
  },
  {
   "cell_type": "code",
   "execution_count": null,
   "metadata": {},
   "outputs": [],
   "source": [
    "wsb_df = df_wsb[features]"
   ]
  },
  {
   "cell_type": "code",
   "execution_count": null,
   "metadata": {},
   "outputs": [],
   "source": [
    "inv_df = df_inv[features]"
   ]
  },
  {
   "cell_type": "markdown",
   "metadata": {},
   "source": [
    "Saving raw data to csv."
   ]
  },
  {
   "cell_type": "code",
   "execution_count": null,
   "metadata": {},
   "outputs": [],
   "source": [
    "df_wsb.to_csv('./data/df_wsb.csv', index = False)"
   ]
  },
  {
   "cell_type": "code",
   "execution_count": null,
   "metadata": {},
   "outputs": [],
   "source": [
    "df_inv.to_csv('./data/df_inv.csv', index = False)"
   ]
  },
  {
   "cell_type": "markdown",
   "metadata": {},
   "source": [
    "## Data Cleaning & EDA"
   ]
  },
  {
   "cell_type": "code",
   "execution_count": 192,
   "metadata": {},
   "outputs": [],
   "source": [
    "df_wsb = pd.read_csv('./data/df_wsb.csv')\n",
    "\n",
    "df_inv = pd.read_csv('./data/df_inv.csv')"
   ]
  },
  {
   "cell_type": "markdown",
   "metadata": {},
   "source": [
    "Removing all lines where there is no useful text in selftext. I will probably use this column for modeling and this column potentially has far more words than in the 'title' column."
   ]
  },
  {
   "cell_type": "code",
   "execution_count": 4,
   "metadata": {},
   "outputs": [],
   "source": [
    "df_inv = df_inv.loc[df_inv['selftext']!='[removed]']\n",
    "\n",
    "df_inv = df_inv.loc[df_inv['selftext']!='[deleted]']\n",
    "\n",
    "df_wsb = df_wsb.loc[df_wsb['selftext']!='[removed]']\n",
    "\n",
    "df_wsb = df_wsb.loc[df_wsb['selftext']!='[deleted]']"
   ]
  },
  {
   "cell_type": "markdown",
   "metadata": {},
   "source": [
    "Because I was able to collect so much data, I want to limit my data so that I am able to have models that can execute faster in the modeling and gridsearch phase."
   ]
  },
  {
   "cell_type": "code",
   "execution_count": 5,
   "metadata": {},
   "outputs": [],
   "source": [
    "df_inv = df_inv[:3501]\n",
    "\n",
    "df_wsb = df_wsb[:3500]"
   ]
  },
  {
   "cell_type": "code",
   "execution_count": 6,
   "metadata": {},
   "outputs": [],
   "source": [
    "df_wsb.reset_index(inplace = True)\n",
    "\n",
    "df_inv.reset_index(inplace = True)"
   ]
  },
  {
   "cell_type": "markdown",
   "metadata": {},
   "source": [
    "Creating a profanity filter for the data. All profanity and slurs regardless of length will be represented by .... .This will only be in the WSB data as r/investing is safe for work."
   ]
  },
  {
   "cell_type": "code",
   "execution_count": 7,
   "metadata": {
    "collapsed": true
   },
   "outputs": [
    {
     "name": "stderr",
     "output_type": "stream",
     "text": [
      "/opt/anaconda3/lib/python3.7/site-packages/ipykernel_launcher.py:2: SettingWithCopyWarning: \n",
      "A value is trying to be set on a copy of a slice from a DataFrame\n",
      "\n",
      "See the caveats in the documentation: https://pandas.pydata.org/pandas-docs/stable/user_guide/indexing.html#returning-a-view-versus-a-copy\n",
      "  \n",
      "/opt/anaconda3/lib/python3.7/site-packages/ipykernel_launcher.py:5: SettingWithCopyWarning: \n",
      "A value is trying to be set on a copy of a slice from a DataFrame\n",
      "\n",
      "See the caveats in the documentation: https://pandas.pydata.org/pandas-docs/stable/user_guide/indexing.html#returning-a-view-versus-a-copy\n",
      "  \"\"\"\n"
     ]
    }
   ],
   "source": [
    "for i in range(len(df_wsb['selftext'])):\n",
    "    df_wsb['selftext'][i] = profanity.censor(df_wsb['selftext'][i])\n",
    "\n",
    "for i in range(len(df_wsb['title'])):\n",
    "    df_wsb['title'][i] = profanity.censor(df_wsb['title'][i])"
   ]
  },
  {
   "cell_type": "code",
   "execution_count": 8,
   "metadata": {},
   "outputs": [],
   "source": [
    "wsb = df_wsb[features]\n",
    "\n",
    "inv = df_inv[features]"
   ]
  },
  {
   "cell_type": "markdown",
   "metadata": {},
   "source": [
    "Here I am taking out any items that are not characters using regular expressions."
   ]
  },
  {
   "cell_type": "code",
   "execution_count": 9,
   "metadata": {
    "collapsed": true
   },
   "outputs": [
    {
     "name": "stderr",
     "output_type": "stream",
     "text": [
      "/opt/anaconda3/lib/python3.7/site-packages/ipykernel_launcher.py:1: SettingWithCopyWarning: \n",
      "A value is trying to be set on a copy of a slice from a DataFrame.\n",
      "Try using .loc[row_indexer,col_indexer] = value instead\n",
      "\n",
      "See the caveats in the documentation: https://pandas.pydata.org/pandas-docs/stable/user_guide/indexing.html#returning-a-view-versus-a-copy\n",
      "  \"\"\"Entry point for launching an IPython kernel.\n"
     ]
    }
   ],
   "source": [
    "wsb['selftext'] = wsb['selftext'].astype(str)"
   ]
  },
  {
   "cell_type": "code",
   "execution_count": 10,
   "metadata": {
    "collapsed": true
   },
   "outputs": [
    {
     "name": "stderr",
     "output_type": "stream",
     "text": [
      "/opt/anaconda3/lib/python3.7/site-packages/ipykernel_launcher.py:2: SettingWithCopyWarning: \n",
      "A value is trying to be set on a copy of a slice from a DataFrame\n",
      "\n",
      "See the caveats in the documentation: https://pandas.pydata.org/pandas-docs/stable/user_guide/indexing.html#returning-a-view-versus-a-copy\n",
      "  \n",
      "/opt/anaconda3/lib/python3.7/site-packages/IPython/core/interactiveshell.py:3331: SettingWithCopyWarning: \n",
      "A value is trying to be set on a copy of a slice from a DataFrame\n",
      "\n",
      "See the caveats in the documentation: https://pandas.pydata.org/pandas-docs/stable/user_guide/indexing.html#returning-a-view-versus-a-copy\n",
      "  exec(code_obj, self.user_global_ns, self.user_ns)\n",
      "/opt/anaconda3/lib/python3.7/site-packages/ipykernel_launcher.py:6: SettingWithCopyWarning: \n",
      "A value is trying to be set on a copy of a slice from a DataFrame\n",
      "\n",
      "See the caveats in the documentation: https://pandas.pydata.org/pandas-docs/stable/user_guide/indexing.html#returning-a-view-versus-a-copy\n",
      "  \n"
     ]
    }
   ],
   "source": [
    "for i in range(len(wsb['selftext'])):\n",
    "    wsb['selftext'][i]= re.sub(\"[^a-zA-Z]\", \" \",wsb['selftext'][i]) \n",
    "\n",
    "\n",
    "for i in range(len(wsb['title'])):\n",
    "    wsb['title'][i]= re.sub(\"[^a-zA-Z]\", \" \",wsb['title'][i]) "
   ]
  },
  {
   "cell_type": "code",
   "execution_count": 11,
   "metadata": {
    "collapsed": true
   },
   "outputs": [
    {
     "name": "stderr",
     "output_type": "stream",
     "text": [
      "/opt/anaconda3/lib/python3.7/site-packages/ipykernel_launcher.py:1: SettingWithCopyWarning: \n",
      "A value is trying to be set on a copy of a slice from a DataFrame.\n",
      "Try using .loc[row_indexer,col_indexer] = value instead\n",
      "\n",
      "See the caveats in the documentation: https://pandas.pydata.org/pandas-docs/stable/user_guide/indexing.html#returning-a-view-versus-a-copy\n",
      "  \"\"\"Entry point for launching an IPython kernel.\n"
     ]
    }
   ],
   "source": [
    "inv['selftext'] = inv['selftext'].astype(str)"
   ]
  },
  {
   "cell_type": "code",
   "execution_count": 12,
   "metadata": {
    "collapsed": true
   },
   "outputs": [
    {
     "name": "stderr",
     "output_type": "stream",
     "text": [
      "/opt/anaconda3/lib/python3.7/site-packages/ipykernel_launcher.py:2: SettingWithCopyWarning: \n",
      "A value is trying to be set on a copy of a slice from a DataFrame\n",
      "\n",
      "See the caveats in the documentation: https://pandas.pydata.org/pandas-docs/stable/user_guide/indexing.html#returning-a-view-versus-a-copy\n",
      "  \n",
      "/opt/anaconda3/lib/python3.7/site-packages/ipykernel_launcher.py:5: SettingWithCopyWarning: \n",
      "A value is trying to be set on a copy of a slice from a DataFrame\n",
      "\n",
      "See the caveats in the documentation: https://pandas.pydata.org/pandas-docs/stable/user_guide/indexing.html#returning-a-view-versus-a-copy\n",
      "  \"\"\"\n"
     ]
    }
   ],
   "source": [
    "for i in range(len(inv['selftext'])):\n",
    "    inv['selftext'][i]= re.sub(\"[^a-zA-Z]\", \" \",inv['selftext'][i]) \n",
    "\n",
    "for i in range(len(inv['title'])):\n",
    "    inv['title'][i]= re.sub(\"[^a-zA-Z]\", \" \",inv['title'][i]) "
   ]
  },
  {
   "cell_type": "markdown",
   "metadata": {},
   "source": [
    "Using the word_tokenize method of the nltk library. This will return and clean the words to be lemmatized later."
   ]
  },
  {
   "cell_type": "code",
   "execution_count": 13,
   "metadata": {
    "collapsed": true
   },
   "outputs": [
    {
     "name": "stderr",
     "output_type": "stream",
     "text": [
      "/opt/anaconda3/lib/python3.7/site-packages/ipykernel_launcher.py:1: SettingWithCopyWarning: \n",
      "A value is trying to be set on a copy of a slice from a DataFrame.\n",
      "Try using .loc[row_indexer,col_indexer] = value instead\n",
      "\n",
      "See the caveats in the documentation: https://pandas.pydata.org/pandas-docs/stable/user_guide/indexing.html#returning-a-view-versus-a-copy\n",
      "  \"\"\"Entry point for launching an IPython kernel.\n",
      "/opt/anaconda3/lib/python3.7/site-packages/ipykernel_launcher.py:3: SettingWithCopyWarning: \n",
      "A value is trying to be set on a copy of a slice from a DataFrame.\n",
      "Try using .loc[row_indexer,col_indexer] = value instead\n",
      "\n",
      "See the caveats in the documentation: https://pandas.pydata.org/pandas-docs/stable/user_guide/indexing.html#returning-a-view-versus-a-copy\n",
      "  This is separate from the ipykernel package so we can avoid doing imports until\n",
      "/opt/anaconda3/lib/python3.7/site-packages/ipykernel_launcher.py:5: SettingWithCopyWarning: \n",
      "A value is trying to be set on a copy of a slice from a DataFrame.\n",
      "Try using .loc[row_indexer,col_indexer] = value instead\n",
      "\n",
      "See the caveats in the documentation: https://pandas.pydata.org/pandas-docs/stable/user_guide/indexing.html#returning-a-view-versus-a-copy\n",
      "  \"\"\"\n",
      "/opt/anaconda3/lib/python3.7/site-packages/ipykernel_launcher.py:7: SettingWithCopyWarning: \n",
      "A value is trying to be set on a copy of a slice from a DataFrame.\n",
      "Try using .loc[row_indexer,col_indexer] = value instead\n",
      "\n",
      "See the caveats in the documentation: https://pandas.pydata.org/pandas-docs/stable/user_guide/indexing.html#returning-a-view-versus-a-copy\n",
      "  import sys\n"
     ]
    }
   ],
   "source": [
    "wsb['st_tok']  =wsb['selftext'].map(word_tokenize)\n",
    "\n",
    "wsb['t_tok']  =wsb['title'].map(word_tokenize)\n",
    "\n",
    "inv['st_tok'] = inv['selftext'].map(word_tokenize)\n",
    "\n",
    "inv['t_tok']=inv['title'].map(word_tokenize)"
   ]
  },
  {
   "cell_type": "markdown",
   "metadata": {},
   "source": [
    "Lemmatizing words below, this will give the common root of words back. This will ultimately create less rows and equivicate similar words"
   ]
  },
  {
   "cell_type": "code",
   "execution_count": 14,
   "metadata": {},
   "outputs": [],
   "source": [
    "lem = WordNetLemmatizer()"
   ]
  },
  {
   "cell_type": "code",
   "execution_count": 15,
   "metadata": {},
   "outputs": [],
   "source": [
    "for i in range(len(wsb['st_tok'])):\n",
    "    for n in range(len(wsb['st_tok'][i])):\n",
    "        wsb['st_tok'][i][n] =  lem.lemmatize(wsb['st_tok'][i][n]).lower() \n",
    "\n",
    "for i in range(len(wsb['t_tok'])):\n",
    "    for n in range(len(wsb['t_tok'][i])):\n",
    "        wsb['t_tok'][i][n] =  lem.lemmatize(wsb['t_tok'][i][n]).lower() \n",
    "\n",
    "for i in range(len(inv['st_tok'])):\n",
    "    for n in range(len(inv['st_tok'][i])):\n",
    "        inv['st_tok'][i][n] =  lem.lemmatize(inv['st_tok'][i][n]).lower() \n",
    "\n",
    "for i in range(len(inv['t_tok'])):\n",
    "    for n in range(len(inv['t_tok'][i])):\n",
    "        inv['t_tok'][i][n] =  lem.lemmatize(inv['t_tok'][i][n]).lower() \n",
    "\n",
    "for i in range(len(inv['t_tok'])):\n",
    "    for n in range(len(inv['t_tok'][i])):\n",
    "        inv['t_tok'][i][n] =  lem.lemmatize(inv['t_tok'][i][n]).lower() "
   ]
  },
  {
   "cell_type": "markdown",
   "metadata": {},
   "source": [
    "Creating a new column that is the cleaned and lemmatized 'selftext' and 'title' columns. This will allow me to use more diverse text for the model phase."
   ]
  },
  {
   "cell_type": "code",
   "execution_count": 16,
   "metadata": {
    "collapsed": true
   },
   "outputs": [
    {
     "name": "stderr",
     "output_type": "stream",
     "text": [
      "/opt/anaconda3/lib/python3.7/site-packages/ipykernel_launcher.py:1: SettingWithCopyWarning: \n",
      "A value is trying to be set on a copy of a slice from a DataFrame.\n",
      "Try using .loc[row_indexer,col_indexer] = value instead\n",
      "\n",
      "See the caveats in the documentation: https://pandas.pydata.org/pandas-docs/stable/user_guide/indexing.html#returning-a-view-versus-a-copy\n",
      "  \"\"\"Entry point for launching an IPython kernel.\n"
     ]
    }
   ],
   "source": [
    "inv['cleaned_tok'] = (inv['st_tok'] +inv['t_tok'])"
   ]
  },
  {
   "cell_type": "code",
   "execution_count": 17,
   "metadata": {
    "collapsed": true
   },
   "outputs": [
    {
     "name": "stderr",
     "output_type": "stream",
     "text": [
      "/opt/anaconda3/lib/python3.7/site-packages/ipykernel_launcher.py:1: SettingWithCopyWarning: \n",
      "A value is trying to be set on a copy of a slice from a DataFrame.\n",
      "Try using .loc[row_indexer,col_indexer] = value instead\n",
      "\n",
      "See the caveats in the documentation: https://pandas.pydata.org/pandas-docs/stable/user_guide/indexing.html#returning-a-view-versus-a-copy\n",
      "  \"\"\"Entry point for launching an IPython kernel.\n"
     ]
    }
   ],
   "source": [
    "wsb['cleaned_tok'] = (wsb['st_tok'] +wsb['t_tok'])"
   ]
  },
  {
   "cell_type": "markdown",
   "metadata": {},
   "source": [
    "Joining DataFrames to be used as a whole. Another csv checkpoint as well."
   ]
  },
  {
   "cell_type": "code",
   "execution_count": 18,
   "metadata": {},
   "outputs": [],
   "source": [
    "df = pd.concat([inv,wsb],join = 'outer',ignore_index = True)"
   ]
  },
  {
   "cell_type": "code",
   "execution_count": 193,
   "metadata": {},
   "outputs": [],
   "source": [
    "df.to_csv('./data/full_wsb_inv.csv',index = False)"
   ]
  },
  {
   "cell_type": "markdown",
   "metadata": {},
   "source": [
    "## Preprocessing & Modeling"
   ]
  },
  {
   "cell_type": "code",
   "execution_count": 20,
   "metadata": {},
   "outputs": [],
   "source": [
    "df = pd.read_csv('./data/full_wsb_inv.csv')"
   ]
  },
  {
   "cell_type": "markdown",
   "metadata": {},
   "source": [
    "As stated above, will use 'cleaned_tok' as the main column to model."
   ]
  },
  {
   "cell_type": "code",
   "execution_count": 21,
   "metadata": {},
   "outputs": [],
   "source": [
    "X = df['cleaned_tok']\n",
    "y = df['subreddit']"
   ]
  },
  {
   "cell_type": "code",
   "execution_count": 186,
   "metadata": {},
   "outputs": [],
   "source": [
    "X_train, X_test, y_train, y_test = train_test_split(X,\n",
    "                                                    y,\n",
    "                                                    test_size=0.25,\n",
    "                                                    stratify=y,\n",
    "                                                    random_state=42)"
   ]
  },
  {
   "cell_type": "markdown",
   "metadata": {},
   "source": [
    "Before completely starting the modeling process, I want to visualize what are the most common words in our X_train  set. I will look to see the difference in the words that are seen as important by the selected model later if possible."
   ]
  },
  {
   "cell_type": "code",
   "execution_count": 189,
   "metadata": {},
   "outputs": [
    {
     "data": {
      "image/png": "[encoded data removed]",
      "text/plain": [
       "<Figure size 1080x720 with 1 Axes>"
      ]
     },
     "metadata": {
      "needs_background": "light"
     },
     "output_type": "display_data"
    }
   ],
   "source": [
    "cvec_v = CountVectorizer(stop_words = 'english') \n",
    "\n",
    "X_train_v = cvec_v.fit_transform(X_train)\n",
    "\n",
    "X_train_v = pd.DataFrame(X_train_v.toarray(),\n",
    "                          columns=cvec_v.get_feature_names())\n",
    "\n",
    "X_test = cvec_v.transform(X_test)\n",
    "X_test = pd.DataFrame(X_test.toarray(),\n",
    "                         columns=cvec_v.get_feature_names())\n",
    "\n",
    "# get count of top-occurring words\n",
    "\n",
    "# # empty dictionary\n",
    "top_words = {}\n",
    "\n",
    "# # loop through columns\n",
    "for i in X_train_v.columns:\n",
    "#     # save sum of each column in dictionary\n",
    "    top_words[i] =  X_train_v[i].sum()\n",
    "    \n",
    "# # top_words to dataframe sorted by highest occurance\n",
    "most_freq = pd.DataFrame(sorted(top_words.items(), key = lambda x: x[1], reverse = True))\n",
    "\n",
    "plt.figure(figsize = (15, 10))\n",
    "\n",
    "# visualize top 10 words\n",
    "plt.barh(most_freq[0][:30], most_freq[1][:30])\n",
    "plt.xlabel('Count')\n",
    "plt.ylabel('Word')\n",
    "plt.title('Word Count Both Subreddits')\n",
    "plt.tight_layout;"
   ]
  },
  {
   "cell_type": "markdown",
   "metadata": {},
   "source": [
    "### Null"
   ]
  },
  {
   "cell_type": "markdown",
   "metadata": {},
   "source": [
    "Since all of the models are focused on accuracy, our null model is simply going to say that any data is the majority class. In this case, the investing columns has one more row so our data will be split around 50%."
   ]
  },
  {
   "cell_type": "code",
   "execution_count": 23,
   "metadata": {},
   "outputs": [
    {
     "data": {
      "text/plain": [
       "wallstreetbets    0.5\n",
       "investing         0.5\n",
       "Name: subreddit, dtype: float64"
      ]
     },
     "execution_count": 23,
     "metadata": {},
     "output_type": "execute_result"
    }
   ],
   "source": [
    "y_test.value_counts(normalize=True)"
   ]
  },
  {
   "cell_type": "markdown",
   "metadata": {},
   "source": [
    "## Tfidf LR"
   ]
  },
  {
   "cell_type": "code",
   "execution_count": 33,
   "metadata": {},
   "outputs": [],
   "source": [
    "pipe_tfidf = Pipeline([\n",
    "    ('tfidf', TfidfVectorizer()),\n",
    "    ('lr', LogisticRegression(max_iter = 1000))\n",
    "])"
   ]
  },
  {
   "cell_type": "code",
   "execution_count": 34,
   "metadata": {},
   "outputs": [],
   "source": [
    "pipe_tfidf_params = {\n",
    "    'tfidf__max_features': [5_000,6_000,7000],\n",
    "    'tfidf__stop_words': [None, 'english'],\n",
    "    'lr__C': [1,2],\n",
    "\n",
    "}"
   ]
  },
  {
   "cell_type": "code",
   "execution_count": 35,
   "metadata": {},
   "outputs": [],
   "source": [
    "gs_tfidf = GridSearchCV(pipe_tfidf, \n",
    "                        param_grid = pipe_tfidf_params, \n",
    "                        cv=5) "
   ]
  },
  {
   "cell_type": "code",
   "execution_count": 36,
   "metadata": {},
   "outputs": [
    {
     "name": "stdout",
     "output_type": "stream",
     "text": [
      "CPU times: user 1min 4s, sys: 371 ms, total: 1min 5s\n",
      "Wall time: 29.3 s\n"
     ]
    },
    {
     "data": {
      "text/plain": [
       "GridSearchCV(cv=5, error_score=nan,\n",
       "             estimator=Pipeline(memory=None,\n",
       "                                steps=[('tfidf',\n",
       "                                        TfidfVectorizer(analyzer='word',\n",
       "                                                        binary=False,\n",
       "                                                        decode_error='strict',\n",
       "                                                        dtype=<class 'numpy.float64'>,\n",
       "                                                        encoding='utf-8',\n",
       "                                                        input='content',\n",
       "                                                        lowercase=True,\n",
       "                                                        max_df=1.0,\n",
       "                                                        max_features=None,\n",
       "                                                        min_df=1,\n",
       "                                                        ngram_range=(1, 1),\n",
       "                                                        norm='l2',\n",
       "                                                        preprocessor=None,\n",
       "                                                        smooth_idf=True,\n",
       "                                                        stop_words=None,\n",
       "                                                        strip_acc...\n",
       "                                                           max_iter=1000,\n",
       "                                                           multi_class='auto',\n",
       "                                                           n_jobs=None,\n",
       "                                                           penalty='l2',\n",
       "                                                           random_state=None,\n",
       "                                                           solver='lbfgs',\n",
       "                                                           tol=0.0001,\n",
       "                                                           verbose=0,\n",
       "                                                           warm_start=False))],\n",
       "                                verbose=False),\n",
       "             iid='deprecated', n_jobs=None,\n",
       "             param_grid={'lr__C': [1, 2],\n",
       "                         'tfidf__max_features': [5000, 6000, 7000],\n",
       "                         'tfidf__stop_words': [None, 'english']},\n",
       "             pre_dispatch='2*n_jobs', refit=True, return_train_score=False,\n",
       "             scoring=None, verbose=0)"
      ]
     },
     "execution_count": 36,
     "metadata": {},
     "output_type": "execute_result"
    }
   ],
   "source": [
    "%%time\n",
    "gs_tfidf.fit(X_train, y_train)"
   ]
  },
  {
   "cell_type": "code",
   "execution_count": 37,
   "metadata": {},
   "outputs": [
    {
     "data": {
      "text/plain": [
       "{'lr__C': 2, 'tfidf__max_features': 6000, 'tfidf__stop_words': None}"
      ]
     },
     "execution_count": 37,
     "metadata": {},
     "output_type": "execute_result"
    }
   ],
   "source": [
    "gs_tfidf.best_params_"
   ]
  },
  {
   "cell_type": "code",
   "execution_count": 38,
   "metadata": {},
   "outputs": [
    {
     "data": {
      "text/plain": [
       "0.9283809523809524"
      ]
     },
     "execution_count": 38,
     "metadata": {},
     "output_type": "execute_result"
    }
   ],
   "source": [
    "gs_tfidf.score(X_train, y_train)"
   ]
  },
  {
   "cell_type": "code",
   "execution_count": 39,
   "metadata": {},
   "outputs": [
    {
     "data": {
      "text/plain": [
       "0.8382857142857143"
      ]
     },
     "execution_count": 39,
     "metadata": {},
     "output_type": "execute_result"
    }
   ],
   "source": [
    "gs_tfidf.score(X_test, y_test)"
   ]
  },
  {
   "cell_type": "code",
   "execution_count": 140,
   "metadata": {},
   "outputs": [
    {
     "data": {
      "text/plain": [
       "0.839047619047619"
      ]
     },
     "execution_count": 140,
     "metadata": {},
     "output_type": "execute_result"
    }
   ],
   "source": [
    "cross_val_score(gs_tfidf.best_estimator_, X_train, y_train, cv = 5).mean()"
   ]
  },
  {
   "cell_type": "code",
   "execution_count": 150,
   "metadata": {},
   "outputs": [
    {
     "data": {
      "text/plain": [
       "array([-0.4356528 ,  0.07568331,  0.01851619, ..., -0.09596178,\n",
       "        0.00118654,  0.42241922])"
      ]
     },
     "execution_count": 150,
     "metadata": {},
     "output_type": "execute_result"
    }
   ],
   "source": [
    "gs_tfidf.best_estimator_.steps[1][1].coef_.flatten()"
   ]
  },
  {
   "cell_type": "markdown",
   "metadata": {},
   "source": [
    "## CART"
   ]
  },
  {
   "cell_type": "code",
   "execution_count": 41,
   "metadata": {},
   "outputs": [],
   "source": [
    "pipe_dt = Pipeline([\n",
    "    ('tvec', TfidfVectorizer(stop_words = 'english')),\n",
    "    ('dt' , DecisionTreeClassifier())\n",
    "])\n"
   ]
  },
  {
   "cell_type": "code",
   "execution_count": 42,
   "metadata": {},
   "outputs": [],
   "source": [
    "pipe_dt_params = {\n",
    "    'dt__max_depth' : [150],\n",
    "    'dt__min_samples_split' : [10,20],\n",
    "    'dt__min_samples_leaf' : [1,3],\n",
    "    'dt__random_state' : [42],\n",
    "    'dt__max_features' :[150,200]      \n",
    "\n",
    "}"
   ]
  },
  {
   "cell_type": "code",
   "execution_count": 43,
   "metadata": {},
   "outputs": [],
   "source": [
    "gs_dt = GridSearchCV(pipe_dt,\n",
    "                        param_grid = pipe_dt_params,\n",
    "                        cv=5) "
   ]
  },
  {
   "cell_type": "code",
   "execution_count": 44,
   "metadata": {},
   "outputs": [
    {
     "data": {
      "text/plain": [
       "GridSearchCV(cv=5, error_score=nan,\n",
       "             estimator=Pipeline(memory=None,\n",
       "                                steps=[('tvec',\n",
       "                                        TfidfVectorizer(analyzer='word',\n",
       "                                                        binary=False,\n",
       "                                                        decode_error='strict',\n",
       "                                                        dtype=<class 'numpy.float64'>,\n",
       "                                                        encoding='utf-8',\n",
       "                                                        input='content',\n",
       "                                                        lowercase=True,\n",
       "                                                        max_df=1.0,\n",
       "                                                        max_features=None,\n",
       "                                                        min_df=1,\n",
       "                                                        ngram_range=(1, 1),\n",
       "                                                        norm='l2',\n",
       "                                                        preprocessor=None,\n",
       "                                                        smooth_idf=True,\n",
       "                                                        stop_words='english',\n",
       "                                                        strip...\n",
       "                                                               min_weight_fraction_leaf=0.0,\n",
       "                                                               presort='deprecated',\n",
       "                                                               random_state=None,\n",
       "                                                               splitter='best'))],\n",
       "                                verbose=False),\n",
       "             iid='deprecated', n_jobs=None,\n",
       "             param_grid={'dt__max_depth': [150], 'dt__max_features': [150, 200],\n",
       "                         'dt__min_samples_leaf': [1, 3],\n",
       "                         'dt__min_samples_split': [10, 20],\n",
       "                         'dt__random_state': [42]},\n",
       "             pre_dispatch='2*n_jobs', refit=True, return_train_score=False,\n",
       "             scoring=None, verbose=0)"
      ]
     },
     "execution_count": 44,
     "metadata": {},
     "output_type": "execute_result"
    }
   ],
   "source": [
    "gs_dt.fit(X_train, y_train)"
   ]
  },
  {
   "cell_type": "code",
   "execution_count": 45,
   "metadata": {},
   "outputs": [
    {
     "data": {
      "text/plain": [
       "0.8139047619047619"
      ]
     },
     "execution_count": 45,
     "metadata": {},
     "output_type": "execute_result"
    }
   ],
   "source": [
    "gs_dt.score(X_train, y_train)"
   ]
  },
  {
   "cell_type": "code",
   "execution_count": 46,
   "metadata": {},
   "outputs": [
    {
     "data": {
      "text/plain": [
       "0.7131428571428572"
      ]
     },
     "execution_count": 46,
     "metadata": {},
     "output_type": "execute_result"
    }
   ],
   "source": [
    "gs_dt.score(X_test, y_test)"
   ]
  },
  {
   "cell_type": "code",
   "execution_count": 47,
   "metadata": {},
   "outputs": [
    {
     "data": {
      "text/plain": [
       "{'dt__max_depth': 150,\n",
       " 'dt__max_features': 150,\n",
       " 'dt__min_samples_leaf': 3,\n",
       " 'dt__min_samples_split': 20,\n",
       " 'dt__random_state': 42}"
      ]
     },
     "execution_count": 47,
     "metadata": {},
     "output_type": "execute_result"
    }
   ],
   "source": [
    "gs_dt.best_params_"
   ]
  },
  {
   "cell_type": "code",
   "execution_count": 48,
   "metadata": {},
   "outputs": [
    {
     "data": {
      "text/plain": [
       "0.7081904761904761"
      ]
     },
     "execution_count": 48,
     "metadata": {},
     "output_type": "execute_result"
    }
   ],
   "source": [
    "cross_val_score(gs_dt.best_estimator_, X_train, y_train, cv = 5).mean()"
   ]
  },
  {
   "cell_type": "markdown",
   "metadata": {},
   "source": [
    "#### Bagging"
   ]
  },
  {
   "cell_type": "code",
   "execution_count": 73,
   "metadata": {},
   "outputs": [
    {
     "data": {
      "text/plain": [
       "BaggingClassifier(base_estimator=None, bootstrap=True, bootstrap_features=False,\n",
       "                  max_features=1.0, max_samples=1.0, n_estimators=10,\n",
       "                  n_jobs=None, oob_score=False, random_state=None, verbose=0,\n",
       "                  warm_start=False)"
      ]
     },
     "execution_count": 73,
     "metadata": {},
     "output_type": "execute_result"
    }
   ],
   "source": [
    "tvec = TfidfVectorizer(stop_words = 'english')\n",
    "bag = BaggingClassifier()\n",
    "\n",
    "tvec.fit(X_train)\n",
    "\n",
    "bag_X_train = tvec.transform(X_train)\n",
    "\n",
    "bag_X_test = tvec.transform(X_test)\n",
    "\n",
    "bag_df = pd.DataFrame(bag_X_train.toarray(),\n",
    "                          columns=tvec.get_feature_names())\n",
    "\n",
    "bag_df_test = pd.DataFrame(bag_X_test.toarray(),\n",
    "                          columns=tvec.get_feature_names())\n",
    "\n",
    "bag.fit(bag_df, y_train)"
   ]
  },
  {
   "cell_type": "code",
   "execution_count": 74,
   "metadata": {},
   "outputs": [
    {
     "data": {
      "text/plain": [
       "0.9801904761904762"
      ]
     },
     "execution_count": 74,
     "metadata": {},
     "output_type": "execute_result"
    }
   ],
   "source": [
    "bag.score(bag_df, y_train)"
   ]
  },
  {
   "cell_type": "code",
   "execution_count": 76,
   "metadata": {},
   "outputs": [
    {
     "data": {
      "text/plain": [
       "0.7451428571428571"
      ]
     },
     "execution_count": 76,
     "metadata": {},
     "output_type": "execute_result"
    }
   ],
   "source": [
    "bag.score(bag_df_test, y_test)"
   ]
  },
  {
   "cell_type": "markdown",
   "metadata": {},
   "source": [
    "## Random Forest"
   ]
  },
  {
   "cell_type": "code",
   "execution_count": 49,
   "metadata": {},
   "outputs": [],
   "source": [
    "pipe_rf = Pipeline([\n",
    "    ('tfidf', TfidfVectorizer()),\n",
    "    ('rf' , RandomForestClassifier()\n",
    "    )])\n"
   ]
  },
  {
   "cell_type": "code",
   "execution_count": 50,
   "metadata": {},
   "outputs": [],
   "source": [
    "pipe_rf_params = {\n",
    "    'rf__max_depth' : [75,100],\n",
    "    'rf__ccp_alpha': [0],\n",
    "    'rf__n_estimators': [200],\n",
    "    'tfidf__stop_words' : ['english'],\n",
    "    \n",
    "\n",
    "}"
   ]
  },
  {
   "cell_type": "code",
   "execution_count": 51,
   "metadata": {},
   "outputs": [],
   "source": [
    "gs_rf = GridSearchCV(pipe_rf, \n",
    "                        param_grid = pipe_rf_params,\n",
    "                        cv=5) "
   ]
  },
  {
   "cell_type": "code",
   "execution_count": 52,
   "metadata": {},
   "outputs": [
    {
     "name": "stdout",
     "output_type": "stream",
     "text": [
      "CPU times: user 50.2 s, sys: 226 ms, total: 50.5 s\n",
      "Wall time: 50.7 s\n"
     ]
    },
    {
     "data": {
      "text/plain": [
       "GridSearchCV(cv=5, error_score=nan,\n",
       "             estimator=Pipeline(memory=None,\n",
       "                                steps=[('tfidf',\n",
       "                                        TfidfVectorizer(analyzer='word',\n",
       "                                                        binary=False,\n",
       "                                                        decode_error='strict',\n",
       "                                                        dtype=<class 'numpy.float64'>,\n",
       "                                                        encoding='utf-8',\n",
       "                                                        input='content',\n",
       "                                                        lowercase=True,\n",
       "                                                        max_df=1.0,\n",
       "                                                        max_features=None,\n",
       "                                                        min_df=1,\n",
       "                                                        ngram_range=(1, 1),\n",
       "                                                        norm='l2',\n",
       "                                                        preprocessor=None,\n",
       "                                                        smooth_idf=True,\n",
       "                                                        stop_words=None,\n",
       "                                                        strip_acc...\n",
       "                                                               min_weight_fraction_leaf=0.0,\n",
       "                                                               n_estimators=100,\n",
       "                                                               n_jobs=None,\n",
       "                                                               oob_score=False,\n",
       "                                                               random_state=None,\n",
       "                                                               verbose=0,\n",
       "                                                               warm_start=False))],\n",
       "                                verbose=False),\n",
       "             iid='deprecated', n_jobs=None,\n",
       "             param_grid={'rf__ccp_alpha': [0], 'rf__max_depth': [75, 100],\n",
       "                         'rf__n_estimators': [200],\n",
       "                         'tfidf__stop_words': ['english']},\n",
       "             pre_dispatch='2*n_jobs', refit=True, return_train_score=False,\n",
       "             scoring=None, verbose=0)"
      ]
     },
     "execution_count": 52,
     "metadata": {},
     "output_type": "execute_result"
    }
   ],
   "source": [
    "%%time\n",
    "gs_rf.fit(X_train,y_train)"
   ]
  },
  {
   "cell_type": "code",
   "execution_count": 53,
   "metadata": {},
   "outputs": [
    {
     "data": {
      "text/plain": [
       "0.9860952380952381"
      ]
     },
     "execution_count": 53,
     "metadata": {},
     "output_type": "execute_result"
    }
   ],
   "source": [
    "gs_rf.score(X_train,y_train)"
   ]
  },
  {
   "cell_type": "code",
   "execution_count": 54,
   "metadata": {},
   "outputs": [
    {
     "data": {
      "text/plain": [
       "0.8125714285714286"
      ]
     },
     "execution_count": 54,
     "metadata": {},
     "output_type": "execute_result"
    }
   ],
   "source": [
    "gs_rf.score(X_test,y_test)"
   ]
  },
  {
   "cell_type": "code",
   "execution_count": 55,
   "metadata": {},
   "outputs": [
    {
     "data": {
      "text/plain": [
       "{'rf__ccp_alpha': 0,\n",
       " 'rf__max_depth': 75,\n",
       " 'rf__n_estimators': 200,\n",
       " 'tfidf__stop_words': 'english'}"
      ]
     },
     "execution_count": 55,
     "metadata": {},
     "output_type": "execute_result"
    }
   ],
   "source": [
    "gs_rf.best_params_"
   ]
  },
  {
   "cell_type": "code",
   "execution_count": 56,
   "metadata": {},
   "outputs": [
    {
     "data": {
      "text/plain": [
       "0.8278095238095238"
      ]
     },
     "execution_count": 56,
     "metadata": {},
     "output_type": "execute_result"
    }
   ],
   "source": [
    "cross_val_score(gs_rf.best_estimator_, X_train, y_train, cv = 5).mean()"
   ]
  },
  {
   "cell_type": "markdown",
   "metadata": {},
   "source": [
    "## SVC"
   ]
  },
  {
   "cell_type": "code",
   "execution_count": 57,
   "metadata": {},
   "outputs": [],
   "source": [
    "pipe_svc = Pipeline([\n",
    "    ('tvec', TfidfVectorizer(stop_words = 'english')),\n",
    "    ('svc' , SVC(gamma=\"scale\", C = 5,\n",
    "    kernel = \"rbf\"\n",
    "    ))])\n"
   ]
  },
  {
   "cell_type": "code",
   "execution_count": 58,
   "metadata": {},
   "outputs": [],
   "source": [
    "pipe_svc_params = {\n",
    "\n",
    "\n",
    "}"
   ]
  },
  {
   "cell_type": "code",
   "execution_count": 59,
   "metadata": {},
   "outputs": [],
   "source": [
    "gs_svc = GridSearchCV(pipe_svc,\n",
    "                        param_grid = pipe_svc_params, \n",
    "                        cv=5)"
   ]
  },
  {
   "cell_type": "code",
   "execution_count": 60,
   "metadata": {},
   "outputs": [
    {
     "data": {
      "text/plain": [
       "GridSearchCV(cv=5, error_score=nan,\n",
       "             estimator=Pipeline(memory=None,\n",
       "                                steps=[('tvec',\n",
       "                                        TfidfVectorizer(analyzer='word',\n",
       "                                                        binary=False,\n",
       "                                                        decode_error='strict',\n",
       "                                                        dtype=<class 'numpy.float64'>,\n",
       "                                                        encoding='utf-8',\n",
       "                                                        input='content',\n",
       "                                                        lowercase=True,\n",
       "                                                        max_df=1.0,\n",
       "                                                        max_features=None,\n",
       "                                                        min_df=1,\n",
       "                                                        ngram_range=(1, 1),\n",
       "                                                        norm='l2',\n",
       "                                                        preprocessor=None,\n",
       "                                                        smooth_idf=True,\n",
       "                                                        stop_words='english',\n",
       "                                                        strip...\n",
       "                                        SVC(C=5, break_ties=False,\n",
       "                                            cache_size=200, class_weight=None,\n",
       "                                            coef0=0.0,\n",
       "                                            decision_function_shape='ovr',\n",
       "                                            degree=3, gamma='scale',\n",
       "                                            kernel='rbf', max_iter=-1,\n",
       "                                            probability=False,\n",
       "                                            random_state=None, shrinking=True,\n",
       "                                            tol=0.001, verbose=False))],\n",
       "                                verbose=False),\n",
       "             iid='deprecated', n_jobs=None, param_grid={},\n",
       "             pre_dispatch='2*n_jobs', refit=True, return_train_score=False,\n",
       "             scoring=None, verbose=0)"
      ]
     },
     "execution_count": 60,
     "metadata": {},
     "output_type": "execute_result"
    }
   ],
   "source": [
    "gs_svc.fit(X_train, y_train)"
   ]
  },
  {
   "cell_type": "code",
   "execution_count": 61,
   "metadata": {},
   "outputs": [
    {
     "data": {
      "text/plain": [
       "0.9984761904761905"
      ]
     },
     "execution_count": 61,
     "metadata": {},
     "output_type": "execute_result"
    }
   ],
   "source": [
    "gs_svc.score(X_train, y_train)"
   ]
  },
  {
   "cell_type": "code",
   "execution_count": 62,
   "metadata": {},
   "outputs": [
    {
     "data": {
      "text/plain": [
       "0.8411428571428572"
      ]
     },
     "execution_count": 62,
     "metadata": {},
     "output_type": "execute_result"
    }
   ],
   "source": [
    "gs_svc.score(X_test, y_test)"
   ]
  },
  {
   "cell_type": "code",
   "execution_count": 63,
   "metadata": {},
   "outputs": [
    {
     "data": {
      "text/plain": [
       "0.8335238095238097"
      ]
     },
     "execution_count": 63,
     "metadata": {},
     "output_type": "execute_result"
    }
   ],
   "source": [
    "cross_val_score(gs_svc.best_estimator_, X_train, y_train, cv = 5).mean()"
   ]
  },
  {
   "cell_type": "markdown",
   "metadata": {},
   "source": [
    "## Model Selection"
   ]
  },
  {
   "cell_type": "markdown",
   "metadata": {},
   "source": [
    "| Name | Train Score | Test Score | Cross Val Score |\n",
    "|---|---|---|---|\n",
    "| Null Model | 50 | 50 | 50 |\n",
    "| Tfidf LR | 0.928 | 0.838 | 0.839|\n",
    "| Cart | 0.813 | 0.713| 0.708 |\n",
    "| Bagging | 0.980 | 0.745| 0.708 |\n",
    "| Random Forest| 0.984 | 0.813 | 0.827 |\n",
    "| SVC | 0.998 | 0.841 | 0.833 |\n",
    "\n"
   ]
  },
  {
   "cell_type": "markdown",
   "metadata": {},
   "source": [
    "I have decided to pick my TFIDF Vectorized Logistic Regression model for this evaluation. Although it had a lower test score than the SVC Model, it had lower variance in cross validation scores and lower variance between test and train data. In addition, Logistic regression models allow for us to link our coefficients to our test data which I will be exhibiting below."
   ]
  },
  {
   "cell_type": "markdown",
   "metadata": {},
   "source": [
    "## Evaluation and Conceptual Understanding"
   ]
  },
  {
   "cell_type": "code",
   "execution_count": 166,
   "metadata": {
    "scrolled": false
   },
   "outputs": [
    {
     "data": {
      "image/png": "[encoded data removed]",
      "text/plain": [
       "<Figure size 432x288 with 1 Axes>"
      ]
     },
     "metadata": {
      "needs_background": "light"
     },
     "output_type": "display_data"
    }
   ],
   "source": [
    "word_df  =pd.DataFrame(gs_tfidf.best_estimator_.steps[1][1].coef_.flatten(),\n",
    "                        gs_tfidf.best_estimator_.steps[0][1].get_feature_names())\n",
    "word_df.sort_values(0,ascending = False).head(17).plot(kind = 'barh', legend = False);\n",
    "\n",
    "plt.title('Most Important Words For TFIDF Logistic Regression');\n",
    "plt.xlabel('Words with Highest Coefficients');"
   ]
  },
  {
   "cell_type": "markdown",
   "metadata": {},
   "source": [
    "Even though I have taken out profanity in the model, there are clearly words here that are problematic. Some are of these words are specifically exhibit a glaring amount of mental ableism. \n",
    "\n",
    "Other important words that indicate a wallstreetbets post include, tendies, spy, stonks, yolo, and dd. Tendies is a sub specific term to denote gains made on risky stock and options trades. spy is the ticker SPY which many posters commonly trade and is a favorite among the community. Yolo is stands for 'you only live once' a meme that was popular in the 2000s but seems to have traction as an ironic/meta term in the wsb community. dd stands for 'due diligence' which is commonly used at wsb to try and logically reason out usually risky trades before the trade occurs. Stonks is a meme among the community that certain stock 'only go up'."
   ]
  },
  {
   "cell_type": "markdown",
   "metadata": {},
   "source": [
    "## Conclusion and Recommendations"
   ]
  },
  {
   "cell_type": "markdown",
   "metadata": {},
   "source": [
    "While the graph earlier indicated that the most common words used between the subs were innoculus, our model was able to tease out some very problematic results. Despite these words getting through the filter, this would likely indicate that there may be a hostile userbase and hate speech involved here or at the very least extremely distasteful and problematic ways of insulting other users in a joking way. However, joking is always a thinly excuse for that type of behaviour and should rarely if ever be accepted. Our model although not always able to identify the difference between the posts at only an 84 percent accuracy, still performs well above our baseline model of 50 percent. Our model was able to tease out which words and posts are problematic. Our coefficients were also extremly high in many circumstances.\n",
    "\n",
    "While their is a large amount of evidence here, more would be needed in terms of looking at all user comment data. In addition, we would need to manually review many of these posts that are being teased out by our models. Although this speech is unacceptable, Reddit is a website that tries to maintain an environment that is not inherently toxic but also allowing a certian modicum of a wide array of speech that is also not advocating violence."
   ]
  },
  {
   "cell_type": "code",
   "execution_count": null,
   "metadata": {},
   "outputs": [],
   "source": []
  }
 ],
 "metadata": {
  "kernelspec": {
   "display_name": "Python 3",
   "language": "python",
   "name": "python3"
  },
  "language_info": {
   "codemirror_mode": {
    "name": "ipython",
    "version": 3
   },
   "file_extension": ".py",
   "mimetype": "text/x-python",
   "name": "python",
   "nbconvert_exporter": "python",
   "pygments_lexer": "ipython3",
   "version": "3.7.6"
  }
 },
 "nbformat": 4,
 "nbformat_minor": 4
}
